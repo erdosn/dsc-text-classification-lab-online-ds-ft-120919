{
 "cells": [
  {
   "cell_type": "markdown",
   "metadata": {},
   "source": [
    "# Questions \n",
    "* What are the graphs that show val_accuracy\n",
    "* What's happening with a .compile\n",
    "\n",
    "\n",
    "# Objectives\n",
    "YWBAT\n",
    "* build neural networks and tune hyperparams in Keras\n",
    "* evaluate NNs\n",
    "\n",
    "\n",
    "# Agenda\n",
    "* I will walk through a model and build it \n",
    "* Your group will build models to find the best model"
   ]
  },
  {
   "cell_type": "markdown",
   "metadata": {},
   "source": [
    "# What's the first step for NLP?\n",
    "* Acquire the data\n",
    "* Look at and format it for the model\n",
    "    * format = vectorization\n",
    "    * what are some types of vectorizations for NLP\n",
    "        * Bag Of Words - each word is a column and each row gets a word count for each column\n",
    "        * TFIDF - each word is a column and each row gets a tfidf score for each word\n",
    "        * TF - \n",
    "        * IDF - \n",
    "        * Word Embeddings - contextual vectors"
   ]
  },
  {
   "cell_type": "code",
   "execution_count": 38,
   "metadata": {},
   "outputs": [],
   "source": [
    "import pandas as pd\n",
    "import numpy as np\n",
    "import string\n",
    "import nltk\n",
    "\n",
    "from nltk.corpus import stopwords\n",
    "from nltk import word_tokenize, FreqDist\n",
    "from sklearn.decomposition import PCA\n",
    "from sklearn.preprocessing import OneHotEncoder\n",
    "from sklearn.feature_extraction.text import TfidfVectorizer\n",
    "from sklearn.feature_extraction.text import CountVectorizer\n",
    "from sklearn.metrics import accuracy_score, confusion_matrix, classification_report\n",
    "from sklearn.datasets import fetch_20newsgroups\n",
    "\n",
    "\n",
    "import keras\n",
    "from keras import optimizers\n",
    "from keras.layers import Dense\n",
    "\n",
    "from gensim.models import Word2Vec\n",
    "\n",
    "\n",
    "import matplotlib.pyplot as plt\n",
    "import seaborn as sns"
   ]
  },
  {
   "cell_type": "code",
   "execution_count": 2,
   "metadata": {},
   "outputs": [
    {
     "data": {
      "text/html": [
       "<div>\n",
       "<style scoped>\n",
       "    .dataframe tbody tr th:only-of-type {\n",
       "        vertical-align: middle;\n",
       "    }\n",
       "\n",
       "    .dataframe tbody tr th {\n",
       "        vertical-align: top;\n",
       "    }\n",
       "\n",
       "    .dataframe thead th {\n",
       "        text-align: right;\n",
       "    }\n",
       "</style>\n",
       "<table border=\"1\" class=\"dataframe\">\n",
       "  <thead>\n",
       "    <tr style=\"text-align: right;\">\n",
       "      <th></th>\n",
       "      <th>article</th>\n",
       "      <th>label</th>\n",
       "      <th>processed_article</th>\n",
       "      <th>cleaned_article_string</th>\n",
       "    </tr>\n",
       "  </thead>\n",
       "  <tbody>\n",
       "    <tr>\n",
       "      <td>0</td>\n",
       "      <td>Note: These trial updates are summarized from ...</td>\n",
       "      <td>4</td>\n",
       "      <td>['note', 'trial', 'updates', 'summarized', 're...</td>\n",
       "      <td>note trial updates summarized reports idaho st...</td>\n",
       "    </tr>\n",
       "    <tr>\n",
       "      <td>1</td>\n",
       "      <td>NaN</td>\n",
       "      <td>3</td>\n",
       "      <td>[]</td>\n",
       "      <td>NaN</td>\n",
       "    </tr>\n",
       "  </tbody>\n",
       "</table>\n",
       "</div>"
      ],
      "text/plain": [
       "                                             article  label  \\\n",
       "0  Note: These trial updates are summarized from ...      4   \n",
       "1                                                NaN      3   \n",
       "\n",
       "                                   processed_article  \\\n",
       "0  ['note', 'trial', 'updates', 'summarized', 're...   \n",
       "1                                                 []   \n",
       "\n",
       "                              cleaned_article_string  \n",
       "0  note trial updates summarized reports idaho st...  \n",
       "1                                                NaN  "
      ]
     },
     "metadata": {},
     "output_type": "display_data"
    },
    {
     "data": {
      "text/html": [
       "<div>\n",
       "<style scoped>\n",
       "    .dataframe tbody tr th:only-of-type {\n",
       "        vertical-align: middle;\n",
       "    }\n",
       "\n",
       "    .dataframe tbody tr th {\n",
       "        vertical-align: top;\n",
       "    }\n",
       "\n",
       "    .dataframe thead th {\n",
       "        text-align: right;\n",
       "    }\n",
       "</style>\n",
       "<table border=\"1\" class=\"dataframe\">\n",
       "  <thead>\n",
       "    <tr style=\"text-align: right;\">\n",
       "      <th></th>\n",
       "      <th>article</th>\n",
       "      <th>label</th>\n",
       "      <th>processed_article</th>\n",
       "      <th>cleaned_article_string</th>\n",
       "    </tr>\n",
       "  </thead>\n",
       "  <tbody>\n",
       "    <tr>\n",
       "      <td>0</td>\n",
       "      <td>[ ... ]</td>\n",
       "      <td>4</td>\n",
       "      <td>[]</td>\n",
       "      <td>NaN</td>\n",
       "    </tr>\n",
       "    <tr>\n",
       "      <td>1</td>\n",
       "      <td>\\nonce upon a time, that's exactly what they w...</td>\n",
       "      <td>4</td>\n",
       "      <td>['upon', 'time', 'exactly', 'would', 'done', '...</td>\n",
       "      <td>upon time exactly would done everyone could go...</td>\n",
       "    </tr>\n",
       "  </tbody>\n",
       "</table>\n",
       "</div>"
      ],
      "text/plain": [
       "                                             article  label  \\\n",
       "0                                            [ ... ]      4   \n",
       "1  \\nonce upon a time, that's exactly what they w...      4   \n",
       "\n",
       "                                   processed_article  \\\n",
       "0                                                 []   \n",
       "1  ['upon', 'time', 'exactly', 'would', 'done', '...   \n",
       "\n",
       "                              cleaned_article_string  \n",
       "0                                                NaN  \n",
       "1  upon time exactly would done everyone could go...  "
      ]
     },
     "metadata": {},
     "output_type": "display_data"
    },
    {
     "data": {
      "text/plain": [
       "((2814, 4), (1873, 4))"
      ]
     },
     "execution_count": 2,
     "metadata": {},
     "output_type": "execute_result"
    }
   ],
   "source": [
    "df_train = pd.read_csv(\"data/nlp_data_train.csv\")\n",
    "df_test = pd.read_csv(\"data/nlp_data_test.csv\")\n",
    "display(df_train.head(2))\n",
    "display(df_test.head(2))\n",
    "df_train.shape, df_test.shape"
   ]
  },
  {
   "cell_type": "code",
   "execution_count": 3,
   "metadata": {},
   "outputs": [],
   "source": [
    "bow = CountVectorizer(max_features=5000)"
   ]
  },
  {
   "cell_type": "code",
   "execution_count": 4,
   "metadata": {},
   "outputs": [],
   "source": [
    "bow_train = bow.fit_transform(df_train[\"processed_article\"])\n",
    "bow_test = bow.transform(df_test[\"processed_article\"])"
   ]
  },
  {
   "cell_type": "code",
   "execution_count": 5,
   "metadata": {},
   "outputs": [
    {
     "data": {
      "text/plain": [
       "((2814, 5000), (1873, 5000))"
      ]
     },
     "execution_count": 5,
     "metadata": {},
     "output_type": "execute_result"
    }
   ],
   "source": [
    "bow_train.shape, bow_test.shape"
   ]
  },
  {
   "cell_type": "code",
   "execution_count": 6,
   "metadata": {},
   "outputs": [
    {
     "data": {
      "text/plain": [
       "5000"
      ]
     },
     "execution_count": 6,
     "metadata": {},
     "output_type": "execute_result"
    }
   ],
   "source": [
    "len(bow.vocabulary_)"
   ]
  },
  {
   "cell_type": "code",
   "execution_count": 110,
   "metadata": {},
   "outputs": [],
   "source": [
    "# first one hot encode our target\n",
    "encoder = OneHotEncoder()"
   ]
  },
  {
   "cell_type": "code",
   "execution_count": 111,
   "metadata": {},
   "outputs": [],
   "source": [
    "y_train_enc = encoder.fit_transform(df_train[\"label\"].values.reshape(-1, 1))\n",
    "y_test_enc = encoder.fit_transform(df_test[\"label\"].values.reshape(-1, 1))"
   ]
  },
  {
   "cell_type": "code",
   "execution_count": 112,
   "metadata": {},
   "outputs": [
    {
     "data": {
      "text/plain": [
       "((2814, 5), (1873, 5))"
      ]
     },
     "execution_count": 112,
     "metadata": {},
     "output_type": "execute_result"
    }
   ],
   "source": [
    "y_train_enc.shape, y_test_enc.shape"
   ]
  },
  {
   "cell_type": "code",
   "execution_count": 113,
   "metadata": {},
   "outputs": [
    {
     "data": {
      "text/plain": [
       "0    4\n",
       "1    3\n",
       "2    1\n",
       "3    4\n",
       "4    0\n",
       "Name: label, dtype: int64"
      ]
     },
     "execution_count": 113,
     "metadata": {},
     "output_type": "execute_result"
    }
   ],
   "source": [
    "df_train['label'][:5]"
   ]
  },
  {
   "cell_type": "code",
   "execution_count": 114,
   "metadata": {},
   "outputs": [
    {
     "data": {
      "text/plain": [
       "matrix([[0., 0., 0., 0., 1.],\n",
       "        [0., 0., 0., 1., 0.],\n",
       "        [0., 1., 0., 0., 0.],\n",
       "        [0., 0., 0., 0., 1.],\n",
       "        [1., 0., 0., 0., 0.]])"
      ]
     },
     "execution_count": 114,
     "metadata": {},
     "output_type": "execute_result"
    }
   ],
   "source": [
    "y_train_enc.todense()[:5]"
   ]
  },
  {
   "cell_type": "markdown",
   "metadata": {},
   "source": [
    "# Let's build a NN to best predict the outcome"
   ]
  },
  {
   "cell_type": "code",
   "execution_count": 115,
   "metadata": {},
   "outputs": [],
   "source": [
    "model = keras.Sequential()"
   ]
  },
  {
   "cell_type": "code",
   "execution_count": 116,
   "metadata": {},
   "outputs": [],
   "source": [
    "model.add(Dense(units=5000, use_bias=False, activation='relu', input_dim=5000))\n",
    "model.add(Dense(units=6000, use_bias=False, activation='relu', input_dim=5000))\n",
    "model.add(Dense(units=5, activation='softmax'))"
   ]
  },
  {
   "cell_type": "code",
   "execution_count": 117,
   "metadata": {},
   "outputs": [
    {
     "name": "stdout",
     "output_type": "stream",
     "text": [
      "_________________________________________________________________\n",
      "Layer (type)                 Output Shape              Param #   \n",
      "=================================================================\n",
      "dense_22 (Dense)             (None, 5000)              25000000  \n",
      "_________________________________________________________________\n",
      "dense_23 (Dense)             (None, 6000)              30000000  \n",
      "_________________________________________________________________\n",
      "dense_24 (Dense)             (None, 5)                 30005     \n",
      "=================================================================\n",
      "Total params: 55,030,005\n",
      "Trainable params: 55,030,005\n",
      "Non-trainable params: 0\n",
      "_________________________________________________________________\n"
     ]
    }
   ],
   "source": [
    "model.summary()"
   ]
  },
  {
   "cell_type": "code",
   "execution_count": 97,
   "metadata": {},
   "outputs": [],
   "source": [
    "model_optimizer = optimizers.Adam(lr=0.001)\n",
    "\n",
    "model.compile(loss=keras.losses.categorical_crossentropy, \n",
    "              optimizer=model_optimizer)"
   ]
  },
  {
   "cell_type": "markdown",
   "metadata": {},
   "source": [
    "# blog on categorical cross entropy\n",
    "[Click here](https://gombru.github.io/2018/05/23/cross_entropy_loss/)"
   ]
  },
  {
   "cell_type": "code",
   "execution_count": 98,
   "metadata": {},
   "outputs": [
    {
     "name": "stdout",
     "output_type": "stream",
     "text": [
      "Epoch 1/10\n",
      "2814/2814 [==============================] - 17s 6ms/step - loss: 1.2780\n",
      "Epoch 2/10\n",
      "2814/2814 [==============================] - 14s 5ms/step - loss: 0.1964\n",
      "Epoch 3/10\n",
      "2814/2814 [==============================] - 14s 5ms/step - loss: 0.0982\n",
      "Epoch 4/10\n",
      "2814/2814 [==============================] - 14s 5ms/step - loss: 0.1232\n",
      "Epoch 5/10\n",
      "2814/2814 [==============================] - 14s 5ms/step - loss: 0.0907\n",
      "Epoch 6/10\n",
      "2814/2814 [==============================] - 14s 5ms/step - loss: 0.0916\n",
      "Epoch 7/10\n",
      "2814/2814 [==============================] - 14s 5ms/step - loss: 0.0796\n",
      "Epoch 8/10\n",
      "2814/2814 [==============================] - 14s 5ms/step - loss: 0.0754\n",
      "Epoch 9/10\n",
      "2814/2814 [==============================] - 14s 5ms/step - loss: 0.0700\n",
      "Epoch 10/10\n",
      "2814/2814 [==============================] - 14s 5ms/step - loss: 0.0929\n"
     ]
    }
   ],
   "source": [
    "history = model.fit(bow_train, y_train_enc, epochs=10, batch_size=200, verbose=1)"
   ]
  },
  {
   "cell_type": "code",
   "execution_count": 99,
   "metadata": {},
   "outputs": [
    {
     "data": {
      "image/png": "[encoded data removed]",
      "text/plain": [
       "<Figure size 936x576 with 1 Axes>"
      ]
     },
     "metadata": {
      "needs_background": "light"
     },
     "output_type": "display_data"
    }
   ],
   "source": [
    "def plot_history(history, figsize=(13, 8), color='purple', s=50, alpha=0.5):\n",
    "    plt.figure(figsize=figsize)\n",
    "    plt.grid(zorder=0, linestyle='--')\n",
    "    plt.scatter(history.epoch, history.history[\"loss\"], c=color, s=s, alpha=alpha)\n",
    "    plt.xlabel(\"epochs\")\n",
    "    plt.ylabel(\"loss\")\n",
    "    plt.show()\n",
    "    \n",
    "    \n",
    "plot_history(history)"
   ]
  },
  {
   "cell_type": "code",
   "execution_count": 100,
   "metadata": {},
   "outputs": [
    {
     "data": {
      "text/plain": [
       "array([[2.0043926e-01, 1.9931869e-01, 2.0099443e-01, 1.9949967e-01,\n",
       "        1.9974788e-01],\n",
       "       [2.9143322e-01, 3.1752314e-04, 3.8507734e-03, 1.2061644e-03,\n",
       "        7.0319235e-01],\n",
       "       [3.3154685e-02, 5.3331840e-01, 1.0288253e-03, 8.8685848e-02,\n",
       "        3.4381226e-01]], dtype=float32)"
      ]
     },
     "execution_count": 100,
     "metadata": {},
     "output_type": "execute_result"
    }
   ],
   "source": [
    "y_preds = model.predict(bow_test)\n",
    "y_preds[:3]"
   ]
  },
  {
   "cell_type": "code",
   "execution_count": 101,
   "metadata": {},
   "outputs": [],
   "source": [
    "y_pred_labels = np.argmax(y_preds, axis=1)"
   ]
  },
  {
   "cell_type": "code",
   "execution_count": 102,
   "metadata": {},
   "outputs": [
    {
     "name": "stdout",
     "output_type": "stream",
     "text": [
      "              precision    recall  f1-score   support\n",
      "\n",
      "           0       0.79      0.76      0.77       319\n",
      "           1       0.92      0.91      0.92       395\n",
      "           2       0.79      0.96      0.87       399\n",
      "           3       0.85      0.77      0.81       396\n",
      "           4       0.78      0.74      0.76       364\n",
      "\n",
      "    accuracy                           0.83      1873\n",
      "   macro avg       0.83      0.83      0.82      1873\n",
      "weighted avg       0.83      0.83      0.83      1873\n",
      "\n"
     ]
    }
   ],
   "source": [
    "report = classification_report(df_test['label'], y_pred_labels)\n",
    "print(report)"
   ]
  },
  {
   "cell_type": "code",
   "execution_count": 103,
   "metadata": {},
   "outputs": [
    {
     "data": {
      "image/png": "[encoded data removed]",
      "text/plain": [
       "<Figure size 720x720 with 2 Axes>"
      ]
     },
     "metadata": {
      "needs_background": "light"
     },
     "output_type": "display_data"
    }
   ],
   "source": [
    "cm = confusion_matrix(df_test['label'], y_pred_labels)\n",
    "plt.figure(figsize=(10, 10))\n",
    "sns.heatmap(cm, annot=True, cmap=sns.color_palette('Blues'), fmt='0.3g')\n",
    "plt.xlabel(\"Preds\")\n",
    "plt.ylabel(\"Actual\")\n",
    "plt.show()"
   ]
  },
  {
   "cell_type": "code",
   "execution_count": 46,
   "metadata": {},
   "outputs": [],
   "source": [
    "pca = PCA(n_components=1000)\n",
    "bow2 = CountVectorizer()"
   ]
  },
  {
   "cell_type": "code",
   "execution_count": 53,
   "metadata": {},
   "outputs": [],
   "source": [
    "bow_train_2 = bow2.fit_transform(df_train['processed_article'])\n",
    "bow_test_2 = bow2.transform(df_test['processed_article'])"
   ]
  },
  {
   "cell_type": "code",
   "execution_count": 79,
   "metadata": {},
   "outputs": [],
   "source": [
    "pca_bow_train = pca.fit_transform(bow_train_2.todense())"
   ]
  },
  {
   "cell_type": "code",
   "execution_count": 80,
   "metadata": {},
   "outputs": [],
   "source": [
    "pca_bow_test = pca.transform(bow_test_2.todense())"
   ]
  },
  {
   "cell_type": "code",
   "execution_count": 81,
   "metadata": {},
   "outputs": [
    {
     "data": {
      "text/plain": [
       "((2814, 1000), (1873, 1000))"
      ]
     },
     "execution_count": 81,
     "metadata": {},
     "output_type": "execute_result"
    }
   ],
   "source": [
    "pca_bow_train.shape, pca_bow_test.shape"
   ]
  },
  {
   "cell_type": "markdown",
   "metadata": {},
   "source": [
    "# build a model now"
   ]
  },
  {
   "cell_type": "code",
   "execution_count": 82,
   "metadata": {},
   "outputs": [],
   "source": [
    "del model_2"
   ]
  },
  {
   "cell_type": "code",
   "execution_count": 83,
   "metadata": {},
   "outputs": [],
   "source": [
    "model_2 = keras.Sequential()"
   ]
  },
  {
   "cell_type": "code",
   "execution_count": 107,
   "metadata": {},
   "outputs": [],
   "source": [
    "model_2.add(Dense(input_dim=5000, units=2000, activation='relu', use_bias=False))\n",
    "model_2.add(Dense(units=3000, activation='relu', use_bias=False))\n",
    "model_2.add(Dense(units=3000, activation='relu', use_bias=False))\n",
    "model_2.add(Dense(units=5, activation='softmax', use_bias=False))"
   ]
  },
  {
   "cell_type": "code",
   "execution_count": 108,
   "metadata": {},
   "outputs": [
    {
     "name": "stdout",
     "output_type": "stream",
     "text": [
      "_________________________________________________________________\n",
      "Layer (type)                 Output Shape              Param #   \n",
      "=================================================================\n",
      "dense_11 (Dense)             (None, 2000)              2000000   \n",
      "_________________________________________________________________\n",
      "dense_12 (Dense)             (None, 3000)              6000000   \n",
      "_________________________________________________________________\n",
      "dense_13 (Dense)             (None, 3000)              9000000   \n",
      "_________________________________________________________________\n",
      "dense_14 (Dense)             (None, 5)                 15000     \n",
      "_________________________________________________________________\n",
      "dense_18 (Dense)             (None, 2000)              10000     \n",
      "_________________________________________________________________\n",
      "dense_19 (Dense)             (None, 3000)              6000000   \n",
      "_________________________________________________________________\n",
      "dense_20 (Dense)             (None, 3000)              9000000   \n",
      "_________________________________________________________________\n",
      "dense_21 (Dense)             (None, 5)                 15000     \n",
      "=================================================================\n",
      "Total params: 17,015,000\n",
      "Trainable params: 17,015,000\n",
      "Non-trainable params: 0\n",
      "_________________________________________________________________\n"
     ]
    },
    {
     "name": "stderr",
     "output_type": "stream",
     "text": [
      "/Users/rafael/anaconda3/envs/flatiron-env/lib/python3.6/site-packages/keras/engine/training.py:490: UserWarning: Discrepancy between trainable weights and collected trainable weights, did you set `model.trainable` without calling `model.compile` after ?\n",
      "  'Discrepancy between trainable weights and collected trainable'\n"
     ]
    }
   ],
   "source": [
    "model_2.summary()"
   ]
  },
  {
   "cell_type": "code",
   "execution_count": 104,
   "metadata": {},
   "outputs": [],
   "source": [
    "opt2 = optimizers.Adam(lr=0.001)\n",
    "model_2.compile(loss=keras.losses.categorical_crossentropy, \n",
    "              optimizer=opt2, metrics=['accuracy'])"
   ]
  },
  {
   "cell_type": "code",
   "execution_count": 105,
   "metadata": {},
   "outputs": [
    {
     "data": {
      "text/plain": [
       "matrix([[480., 593., 600., 595., 546.]])"
      ]
     },
     "execution_count": 105,
     "metadata": {},
     "output_type": "execute_result"
    }
   ],
   "source": [
    "np.sum(y_train_enc.todense(), axis=0)"
   ]
  },
  {
   "cell_type": "code",
   "execution_count": 109,
   "metadata": {},
   "outputs": [
    {
     "ename": "ValueError",
     "evalue": "Please provide as model targets either a single array or a list of arrays. You passed: y=  (0, 4)\t1.0\n  (1, 3)\t1.0\n  (2, 1)\t1.0\n  (3, 4)\t1.0\n  (4, 0)\t1.0\n  (5, 4)\t1.0\n  (6, 3)\t1.0\n  (7, 1)\t1.0\n  (8, 3)\t1.0\n  (9, 4)\t1.0\n  (10, 3)\t1.0\n  (11, 2)\t1.0\n  (12, 0)\t1.0\n  (13, 4)\t1.0\n  (14, 4)\t1.0\n  (15, 4)\t1.0\n  (16, 2)\t1.0\n  (17, 3)\t1.0\n  (18, 4)\t1.0\n  (19, 1)\t1.0\n  (20, 4)\t1.0\n  (21, 2)\t1.0\n  (22, 1)\t1.0\n  (23, 1)\t1.0\n  (24, 2)\t1.0\n  :\t:\n  (2789, 0)\t1.0\n  (2790, 4)\t1.0\n  (2791, 1)\t1.0\n  (2792, 0)\t1.0\n  (2793, 3)\t1.0\n  (2794, 3)\t1.0\n  (2795, 2)\t1.0\n  (2796, 1)\t1.0\n  (2797, 1)\t1.0\n  (2798, 0)\t1.0\n  (2799, 1)\t1.0\n  (2800, 2)\t1.0\n  (2801, 0)\t1.0\n  (2802, 2)\t1.0\n  (2803, 4)\t1.0\n  (2804, 4)\t1.0\n  (2805, 0)\t1.0\n  (2806, 1)\t1.0\n  (2807, 3)\t1.0\n  (2808, 3)\t1.0\n  (2809, 4)\t1.0\n  (2810, 0)\t1.0\n  (2811, 3)\t1.0\n  (2812, 4)\t1.0\n  (2813, 3)\t1.0",
     "output_type": "error",
     "traceback": [
      "\u001b[0;31m-----------------------------------------------------------------\u001b[0m",
      "\u001b[0;31mValueError\u001b[0m                      Traceback (most recent call last)",
      "\u001b[0;32m<ipython-input-109-9e70fb104834>\u001b[0m in \u001b[0;36m<module>\u001b[0;34m\u001b[0m\n\u001b[0;32m----> 1\u001b[0;31m \u001b[0mhistory2\u001b[0m \u001b[0;34m=\u001b[0m \u001b[0mmodel_2\u001b[0m\u001b[0;34m.\u001b[0m\u001b[0mfit\u001b[0m\u001b[0;34m(\u001b[0m\u001b[0mx\u001b[0m\u001b[0;34m=\u001b[0m\u001b[0mbow_train\u001b[0m\u001b[0;34m,\u001b[0m \u001b[0my\u001b[0m\u001b[0;34m=\u001b[0m\u001b[0my_train_enc\u001b[0m\u001b[0;34m,\u001b[0m \u001b[0mbatch_size\u001b[0m\u001b[0;34m=\u001b[0m\u001b[0;36m200\u001b[0m\u001b[0;34m,\u001b[0m \u001b[0mepochs\u001b[0m\u001b[0;34m=\u001b[0m\u001b[0;36m20\u001b[0m\u001b[0;34m)\u001b[0m\u001b[0;34m\u001b[0m\u001b[0m\n\u001b[0m",
      "\u001b[0;32m~/anaconda3/envs/flatiron-env/lib/python3.6/site-packages/keras/engine/training.py\u001b[0m in \u001b[0;36mfit\u001b[0;34m(self, x, y, batch_size, epochs, verbose, callbacks, validation_split, validation_data, shuffle, class_weight, sample_weight, initial_epoch, steps_per_epoch, validation_steps, **kwargs)\u001b[0m\n\u001b[1;32m    950\u001b[0m             \u001b[0msample_weight\u001b[0m\u001b[0;34m=\u001b[0m\u001b[0msample_weight\u001b[0m\u001b[0;34m,\u001b[0m\u001b[0;34m\u001b[0m\u001b[0m\n\u001b[1;32m    951\u001b[0m             \u001b[0mclass_weight\u001b[0m\u001b[0;34m=\u001b[0m\u001b[0mclass_weight\u001b[0m\u001b[0;34m,\u001b[0m\u001b[0;34m\u001b[0m\u001b[0m\n\u001b[0;32m--> 952\u001b[0;31m             batch_size=batch_size)\n\u001b[0m\u001b[1;32m    953\u001b[0m         \u001b[0;31m# Prepare validation data.\u001b[0m\u001b[0;34m\u001b[0m\u001b[0;34m\u001b[0m\u001b[0m\n\u001b[1;32m    954\u001b[0m         \u001b[0mdo_validation\u001b[0m \u001b[0;34m=\u001b[0m \u001b[0;32mFalse\u001b[0m\u001b[0;34m\u001b[0m\u001b[0m\n",
      "\u001b[0;32m~/anaconda3/envs/flatiron-env/lib/python3.6/site-packages/keras/engine/training.py\u001b[0m in \u001b[0;36m_standardize_user_data\u001b[0;34m(self, x, y, sample_weight, class_weight, check_array_lengths, batch_size)\u001b[0m\n\u001b[1;32m    700\u001b[0m                                          \u001b[0;34m'either a single '\u001b[0m\u001b[0;34m\u001b[0m\u001b[0m\n\u001b[1;32m    701\u001b[0m                                          \u001b[0;34m'array or a list of arrays. '\u001b[0m\u001b[0;34m\u001b[0m\u001b[0m\n\u001b[0;32m--> 702\u001b[0;31m                                          'You passed: y=' + str(y))\n\u001b[0m\u001b[1;32m    703\u001b[0m                 \u001b[0;31m# Typecheck that all inputs are *either* value *or* symbolic.\u001b[0m\u001b[0;34m\u001b[0m\u001b[0;34m\u001b[0m\u001b[0m\n\u001b[1;32m    704\u001b[0m                 \u001b[0;32mif\u001b[0m \u001b[0my\u001b[0m \u001b[0;32mis\u001b[0m \u001b[0;32mnot\u001b[0m \u001b[0;32mNone\u001b[0m\u001b[0;34m:\u001b[0m\u001b[0;34m\u001b[0m\u001b[0m\n",
      "\u001b[0;31mValueError\u001b[0m: Please provide as model targets either a single array or a list of arrays. You passed: y=  (0, 4)\t1.0\n  (1, 3)\t1.0\n  (2, 1)\t1.0\n  (3, 4)\t1.0\n  (4, 0)\t1.0\n  (5, 4)\t1.0\n  (6, 3)\t1.0\n  (7, 1)\t1.0\n  (8, 3)\t1.0\n  (9, 4)\t1.0\n  (10, 3)\t1.0\n  (11, 2)\t1.0\n  (12, 0)\t1.0\n  (13, 4)\t1.0\n  (14, 4)\t1.0\n  (15, 4)\t1.0\n  (16, 2)\t1.0\n  (17, 3)\t1.0\n  (18, 4)\t1.0\n  (19, 1)\t1.0\n  (20, 4)\t1.0\n  (21, 2)\t1.0\n  (22, 1)\t1.0\n  (23, 1)\t1.0\n  (24, 2)\t1.0\n  :\t:\n  (2789, 0)\t1.0\n  (2790, 4)\t1.0\n  (2791, 1)\t1.0\n  (2792, 0)\t1.0\n  (2793, 3)\t1.0\n  (2794, 3)\t1.0\n  (2795, 2)\t1.0\n  (2796, 1)\t1.0\n  (2797, 1)\t1.0\n  (2798, 0)\t1.0\n  (2799, 1)\t1.0\n  (2800, 2)\t1.0\n  (2801, 0)\t1.0\n  (2802, 2)\t1.0\n  (2803, 4)\t1.0\n  (2804, 4)\t1.0\n  (2805, 0)\t1.0\n  (2806, 1)\t1.0\n  (2807, 3)\t1.0\n  (2808, 3)\t1.0\n  (2809, 4)\t1.0\n  (2810, 0)\t1.0\n  (2811, 3)\t1.0\n  (2812, 4)\t1.0\n  (2813, 3)\t1.0"
     ]
    }
   ],
   "source": [
    "history2 = model_2.fit(x=bow_train, y=y_train_enc, batch_size=200, epochs=20)"
   ]
  },
  {
   "cell_type": "code",
   "execution_count": 89,
   "metadata": {},
   "outputs": [
    {
     "data": {
      "image/png": "[encoded data removed]",
      "text/plain": [
       "<Figure size 936x576 with 1 Axes>"
      ]
     },
     "metadata": {
      "needs_background": "light"
     },
     "output_type": "display_data"
    }
   ],
   "source": [
    "def plot_history(history, figsize=(13, 8), color='purple', s=50, alpha=0.5):\n",
    "    plt.figure(figsize=figsize)\n",
    "    plt.grid(zorder=0, linestyle='--')\n",
    "    plt.scatter(history.epoch, history.history[\"loss\"], c=color, s=s, alpha=alpha)\n",
    "    plt.xlabel(\"epochs\")\n",
    "    plt.ylabel(\"loss\")\n",
    "    plt.show()\n",
    "    \n",
    "    \n",
    "plot_history(history2)"
   ]
  },
  {
   "cell_type": "code",
   "execution_count": 90,
   "metadata": {},
   "outputs": [],
   "source": [
    "y_test_preds_pca = model_2.predict(pca_bow_test)"
   ]
  },
  {
   "cell_type": "code",
   "execution_count": 91,
   "metadata": {},
   "outputs": [],
   "source": [
    "cm = confusion_matrix(np.argmax(y_test_enc, axis=1), np.argmax(y_test_preds_pca, axis=1))"
   ]
  },
  {
   "cell_type": "code",
   "execution_count": 92,
   "metadata": {},
   "outputs": [
    {
     "data": {
      "image/png": "[encoded data removed]",
      "text/plain": [
       "<Figure size 720x720 with 2 Axes>"
      ]
     },
     "metadata": {
      "needs_background": "light"
     },
     "output_type": "display_data"
    }
   ],
   "source": [
    "plt.figure(figsize=(10, 10))\n",
    "sns.heatmap(cm, annot=True, cmap=sns.color_palette('Blues'), fmt='0.3g')\n",
    "plt.xlabel(\"Preds\")\n",
    "plt.ylabel(\"Actual\")\n",
    "plt.show()"
   ]
  },
  {
   "cell_type": "code",
   "execution_count": null,
   "metadata": {},
   "outputs": [],
   "source": []
  }
 ],
 "metadata": {
  "kernelspec": {
   "display_name": "Python [conda env:flatiron-env] *",
   "language": "python",
   "name": "conda-env-flatiron-env-py"
  },
  "language_info": {
   "codemirror_mode": {
    "name": "ipython",
    "version": 3
   },
   "file_extension": ".py",
   "mimetype": "text/x-python",
   "name": "python",
   "nbconvert_exporter": "python",
   "pygments_lexer": "ipython3",
   "version": "3.6.0"
  }
 },
 "nbformat": 4,
 "nbformat_minor": 2
}
