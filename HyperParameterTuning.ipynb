{
 "cells": [
  {
   "cell_type": "markdown",
   "metadata": {},
   "source": [
    "# Objectives\n",
    "YWBAT\n",
    "- perform a gridsearch in Keras"
   ]
  },
  {
   "cell_type": "code",
   "execution_count": 3,
   "metadata": {},
   "outputs": [],
   "source": [
    "import warnings\n",
    "import pandas as pd\n",
    "import numpy as np\n",
    "import string\n",
    "import nltk\n",
    "\n",
    "from nltk.corpus import stopwords\n",
    "from nltk import word_tokenize, FreqDist\n",
    "from sklearn.decomposition import PCA\n",
    "from sklearn.preprocessing import OneHotEncoder\n",
    "from sklearn.feature_extraction.text import TfidfVectorizer\n",
    "from sklearn.feature_extraction.text import CountVectorizer\n",
    "from sklearn.metrics import accuracy_score, confusion_matrix, classification_report\n",
    "from sklearn.datasets import fetch_20newsgroups\n",
    "\n",
    "\n",
    "import keras\n",
    "from keras import optimizers\n",
    "from keras.layers import Dense\n",
    "\n",
    "from gensim.models import Word2Vec\n",
    "\n",
    "\n",
    "import matplotlib.pyplot as plt\n",
    "import seaborn as sns\n",
    "\n",
    "warnings.filterwarnings(\"ignore\")"
   ]
  },
  {
   "cell_type": "code",
   "execution_count": 18,
   "metadata": {},
   "outputs": [],
   "source": [
    "df_train = pd.read_csv(\"data/nlp_data_train.csv\")\n",
    "df_test = pd.read_csv(\"data/nlp_data_test.csv\")\n",
    "df_train.dropna(inplace=True)\n",
    "df_test.dropna(inplace=True)"
   ]
  },
  {
   "cell_type": "code",
   "execution_count": 19,
   "metadata": {},
   "outputs": [
    {
     "data": {
      "text/html": [
       "<div>\n",
       "<style scoped>\n",
       "    .dataframe tbody tr th:only-of-type {\n",
       "        vertical-align: middle;\n",
       "    }\n",
       "\n",
       "    .dataframe tbody tr th {\n",
       "        vertical-align: top;\n",
       "    }\n",
       "\n",
       "    .dataframe thead th {\n",
       "        text-align: right;\n",
       "    }\n",
       "</style>\n",
       "<table border=\"1\" class=\"dataframe\">\n",
       "  <thead>\n",
       "    <tr style=\"text-align: right;\">\n",
       "      <th></th>\n",
       "      <th>article</th>\n",
       "      <th>label</th>\n",
       "      <th>processed_article</th>\n",
       "      <th>cleaned_article_string</th>\n",
       "    </tr>\n",
       "  </thead>\n",
       "  <tbody>\n",
       "    <tr>\n",
       "      <td>0</td>\n",
       "      <td>Note: These trial updates are summarized from ...</td>\n",
       "      <td>4</td>\n",
       "      <td>['note', 'trial', 'updates', 'summarized', 're...</td>\n",
       "      <td>note trial updates summarized reports idaho st...</td>\n",
       "    </tr>\n",
       "    <tr>\n",
       "      <td>2</td>\n",
       "      <td>I'm trying to create a button that has both a ...</td>\n",
       "      <td>1</td>\n",
       "      <td>['trying', 'create', 'button', 'label', 'bitma...</td>\n",
       "      <td>trying create button label bitmap using menubu...</td>\n",
       "    </tr>\n",
       "    <tr>\n",
       "      <td>3</td>\n",
       "      <td>Hi. I've just finished reading S414, and have ...</td>\n",
       "      <td>4</td>\n",
       "      <td>['hi', \"'ve\", 'finished', 'reading', 's414', '...</td>\n",
       "      <td>hi 've finished reading s414 several questions...</td>\n",
       "    </tr>\n",
       "    <tr>\n",
       "      <td>4</td>\n",
       "      <td>\\nUnfortunately your phrasing is ambiguous.  R...</td>\n",
       "      <td>0</td>\n",
       "      <td>['unfortunately', 'phrasing', 'ambiguous', 're...</td>\n",
       "      <td>unfortunately phrasing ambiguous re-writing ca...</td>\n",
       "    </tr>\n",
       "    <tr>\n",
       "      <td>5</td>\n",
       "      <td>\\n\\n\\tSeAL Team six should have handled it?  D...</td>\n",
       "      <td>4</td>\n",
       "      <td>['seal', 'team', 'six', 'handled', 'delta', 'f...</td>\n",
       "      <td>seal team six handled delta force batf enough ...</td>\n",
       "    </tr>\n",
       "  </tbody>\n",
       "</table>\n",
       "</div>"
      ],
      "text/plain": [
       "                                             article  label  \\\n",
       "0  Note: These trial updates are summarized from ...      4   \n",
       "2  I'm trying to create a button that has both a ...      1   \n",
       "3  Hi. I've just finished reading S414, and have ...      4   \n",
       "4  \\nUnfortunately your phrasing is ambiguous.  R...      0   \n",
       "5  \\n\\n\\tSeAL Team six should have handled it?  D...      4   \n",
       "\n",
       "                                   processed_article  \\\n",
       "0  ['note', 'trial', 'updates', 'summarized', 're...   \n",
       "2  ['trying', 'create', 'button', 'label', 'bitma...   \n",
       "3  ['hi', \"'ve\", 'finished', 'reading', 's414', '...   \n",
       "4  ['unfortunately', 'phrasing', 'ambiguous', 're...   \n",
       "5  ['seal', 'team', 'six', 'handled', 'delta', 'f...   \n",
       "\n",
       "                              cleaned_article_string  \n",
       "0  note trial updates summarized reports idaho st...  \n",
       "2  trying create button label bitmap using menubu...  \n",
       "3  hi 've finished reading s414 several questions...  \n",
       "4  unfortunately phrasing ambiguous re-writing ca...  \n",
       "5  seal team six handled delta force batf enough ...  "
      ]
     },
     "execution_count": 19,
     "metadata": {},
     "output_type": "execute_result"
    }
   ],
   "source": [
    "df_train.head()\n"
   ]
  },
  {
   "cell_type": "code",
   "execution_count": 20,
   "metadata": {},
   "outputs": [],
   "source": [
    "# Let's build a tfidf model"
   ]
  },
  {
   "cell_type": "code",
   "execution_count": 21,
   "metadata": {},
   "outputs": [],
   "source": [
    "tfidf = TfidfVectorizer(max_features=10000)"
   ]
  },
  {
   "cell_type": "code",
   "execution_count": 22,
   "metadata": {},
   "outputs": [],
   "source": [
    "tfidf_train = tfidf.fit_transform(df_train[\"cleaned_article_string\"], y=df_train['label'])"
   ]
  },
  {
   "cell_type": "code",
   "execution_count": 23,
   "metadata": {},
   "outputs": [],
   "source": [
    "tfidf_test = tfidf.transform(df_test['cleaned_article_string'])"
   ]
  },
  {
   "cell_type": "code",
   "execution_count": 24,
   "metadata": {},
   "outputs": [
    {
     "data": {
      "text/plain": [
       "(2756, 10000)"
      ]
     },
     "execution_count": 24,
     "metadata": {},
     "output_type": "execute_result"
    }
   ],
   "source": [
    "tfidf_train.shape"
   ]
  },
  {
   "cell_type": "code",
   "execution_count": null,
   "metadata": {},
   "outputs": [],
   "source": []
  }
 ],
 "metadata": {
  "kernelspec": {
   "display_name": "Python [conda env:flatiron-env] *",
   "language": "python",
   "name": "conda-env-flatiron-env-py"
  },
  "language_info": {
   "codemirror_mode": {
    "name": "ipython",
    "version": 3
   },
   "file_extension": ".py",
   "mimetype": "text/x-python",
   "name": "python",
   "nbconvert_exporter": "python",
   "pygments_lexer": "ipython3",
   "version": "3.6.0"
  }
 },
 "nbformat": 4,
 "nbformat_minor": 2
}
