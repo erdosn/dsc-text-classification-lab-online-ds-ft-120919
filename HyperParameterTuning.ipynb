{
 "cells": [
  {
   "cell_type": "markdown",
   "metadata": {},
   "source": [
    "# Objectives\n",
    "YWBAT\n",
    "- perform a gridsearch in Keras"
   ]
  },
  {
   "cell_type": "code",
   "execution_count": 25,
   "metadata": {},
   "outputs": [],
   "source": [
    "import warnings\n",
    "import pandas as pd\n",
    "import numpy as np\n",
    "import string\n",
    "import nltk\n",
    "\n",
    "from nltk.corpus import stopwords\n",
    "from sklearn.decomposition import PCA\n",
    "from sklearn.preprocessing import OneHotEncoder\n",
    "from sklearn.feature_extraction.text import TfidfVectorizer\n",
    "from sklearn.feature_extraction.text import CountVectorizer\n",
    "from sklearn.metrics import accuracy_score, confusion_matrix, classification_report\n",
    "\n",
    "\n",
    "import keras\n",
    "from keras import optimizers\n",
    "from keras.layers import Dense\n",
    "\n",
    "from gensim.models import Word2Vec\n",
    "\n",
    "\n",
    "import matplotlib.pyplot as plt\n",
    "import seaborn as sns\n",
    "\n",
    "warnings.filterwarnings(\"ignore\")"
   ]
  },
  {
   "cell_type": "code",
   "execution_count": 26,
   "metadata": {},
   "outputs": [],
   "source": [
    "df_train = pd.read_csv(\"data/nlp_data_train.csv\")\n",
    "df_test = pd.read_csv(\"data/nlp_data_test.csv\")\n",
    "df_train.dropna(inplace=True)\n",
    "df_test.dropna(inplace=True)"
   ]
  },
  {
   "cell_type": "code",
   "execution_count": 27,
   "metadata": {},
   "outputs": [
    {
     "data": {
      "text/html": [
       "<div>\n",
       "<style scoped>\n",
       "    .dataframe tbody tr th:only-of-type {\n",
       "        vertical-align: middle;\n",
       "    }\n",
       "\n",
       "    .dataframe tbody tr th {\n",
       "        vertical-align: top;\n",
       "    }\n",
       "\n",
       "    .dataframe thead th {\n",
       "        text-align: right;\n",
       "    }\n",
       "</style>\n",
       "<table border=\"1\" class=\"dataframe\">\n",
       "  <thead>\n",
       "    <tr style=\"text-align: right;\">\n",
       "      <th></th>\n",
       "      <th>article</th>\n",
       "      <th>label</th>\n",
       "      <th>processed_article</th>\n",
       "      <th>cleaned_article_string</th>\n",
       "    </tr>\n",
       "  </thead>\n",
       "  <tbody>\n",
       "    <tr>\n",
       "      <td>0</td>\n",
       "      <td>Note: These trial updates are summarized from ...</td>\n",
       "      <td>4</td>\n",
       "      <td>['note', 'trial', 'updates', 'summarized', 're...</td>\n",
       "      <td>note trial updates summarized reports idaho st...</td>\n",
       "    </tr>\n",
       "    <tr>\n",
       "      <td>2</td>\n",
       "      <td>I'm trying to create a button that has both a ...</td>\n",
       "      <td>1</td>\n",
       "      <td>['trying', 'create', 'button', 'label', 'bitma...</td>\n",
       "      <td>trying create button label bitmap using menubu...</td>\n",
       "    </tr>\n",
       "    <tr>\n",
       "      <td>3</td>\n",
       "      <td>Hi. I've just finished reading S414, and have ...</td>\n",
       "      <td>4</td>\n",
       "      <td>['hi', \"'ve\", 'finished', 'reading', 's414', '...</td>\n",
       "      <td>hi 've finished reading s414 several questions...</td>\n",
       "    </tr>\n",
       "    <tr>\n",
       "      <td>4</td>\n",
       "      <td>\\nUnfortunately your phrasing is ambiguous.  R...</td>\n",
       "      <td>0</td>\n",
       "      <td>['unfortunately', 'phrasing', 'ambiguous', 're...</td>\n",
       "      <td>unfortunately phrasing ambiguous re-writing ca...</td>\n",
       "    </tr>\n",
       "    <tr>\n",
       "      <td>5</td>\n",
       "      <td>\\n\\n\\tSeAL Team six should have handled it?  D...</td>\n",
       "      <td>4</td>\n",
       "      <td>['seal', 'team', 'six', 'handled', 'delta', 'f...</td>\n",
       "      <td>seal team six handled delta force batf enough ...</td>\n",
       "    </tr>\n",
       "  </tbody>\n",
       "</table>\n",
       "</div>"
      ],
      "text/plain": [
       "                                             article  label  \\\n",
       "0  Note: These trial updates are summarized from ...      4   \n",
       "2  I'm trying to create a button that has both a ...      1   \n",
       "3  Hi. I've just finished reading S414, and have ...      4   \n",
       "4  \\nUnfortunately your phrasing is ambiguous.  R...      0   \n",
       "5  \\n\\n\\tSeAL Team six should have handled it?  D...      4   \n",
       "\n",
       "                                   processed_article  \\\n",
       "0  ['note', 'trial', 'updates', 'summarized', 're...   \n",
       "2  ['trying', 'create', 'button', 'label', 'bitma...   \n",
       "3  ['hi', \"'ve\", 'finished', 'reading', 's414', '...   \n",
       "4  ['unfortunately', 'phrasing', 'ambiguous', 're...   \n",
       "5  ['seal', 'team', 'six', 'handled', 'delta', 'f...   \n",
       "\n",
       "                              cleaned_article_string  \n",
       "0  note trial updates summarized reports idaho st...  \n",
       "2  trying create button label bitmap using menubu...  \n",
       "3  hi 've finished reading s414 several questions...  \n",
       "4  unfortunately phrasing ambiguous re-writing ca...  \n",
       "5  seal team six handled delta force batf enough ...  "
      ]
     },
     "execution_count": 27,
     "metadata": {},
     "output_type": "execute_result"
    }
   ],
   "source": [
    "df_train.head()"
   ]
  },
  {
   "cell_type": "code",
   "execution_count": 28,
   "metadata": {},
   "outputs": [],
   "source": [
    "# Let's build a tfidf model"
   ]
  },
  {
   "cell_type": "code",
   "execution_count": 29,
   "metadata": {},
   "outputs": [],
   "source": [
    "tfidf = TfidfVectorizer(max_features=10000)\n",
    "tfidf_train = tfidf.fit_transform(df_train[\"cleaned_article_string\"], y=df_train['label'])\n",
    "tfidf_test = tfidf.transform(df_test['cleaned_article_string'])"
   ]
  },
  {
   "cell_type": "code",
   "execution_count": 30,
   "metadata": {},
   "outputs": [],
   "source": [
    "tfidf_train.shape"
   ]
  },
  {
   "cell_type": "code",
   "execution_count": 33,
   "metadata": {},
   "outputs": [],
   "source": [
    "model = keras.Sequential()"
   ]
  },
  {
   "cell_type": "code",
   "execution_count": 34,
   "metadata": {},
   "outputs": [
    {
     "name": "stderr",
     "output_type": "stream",
     "text": [
      "W0409 13:22:09.250127 140735865734016 deprecation_wrapper.py:119] From /Users/rafael/anaconda3/envs/flatiron-env/lib/python3.6/site-packages/keras/backend/tensorflow_backend.py:517: The name tf.placeholder is deprecated. Please use tf.compat.v1.placeholder instead.\n",
      "\n",
      "W0409 13:22:09.275854 140735865734016 deprecation_wrapper.py:119] From /Users/rafael/anaconda3/envs/flatiron-env/lib/python3.6/site-packages/keras/backend/tensorflow_backend.py:4138: The name tf.random_uniform is deprecated. Please use tf.random.uniform instead.\n",
      "\n"
     ]
    }
   ],
   "source": [
    "# first hidden layer\n",
    "model.add(Dense(input_dim=10000, units=15000, activation='relu'))\n",
    "# output layter\n",
    "model.add(Dense(units=5, activation='softmax'))"
   ]
  },
  {
   "cell_type": "code",
   "execution_count": 36,
   "metadata": {},
   "outputs": [],
   "source": [
    "# encode our y variable\n",
    "encoder = OneHotEncoder()\n",
    "y_train_enc = encoder.fit_transform(df_train['label'].values.reshape(-1, 1))\n",
    "y_test_enc = encoder.transform(df_test['label'].values.reshape(-1, 1))"
   ]
  },
  {
   "cell_type": "code",
   "execution_count": 39,
   "metadata": {},
   "outputs": [],
   "source": [
    "# build our optimizer\n",
    "opt = optimizers.Adam()"
   ]
  },
  {
   "cell_type": "code",
   "execution_count": 41,
   "metadata": {},
   "outputs": [],
   "source": [
    "model.compile(loss=keras.losses.categorical_crossentropy,\n",
    "              optimizer=opt,\n",
    "              metrics=['accuracy'])"
   ]
  },
  {
   "cell_type": "code",
   "execution_count": 43,
   "metadata": {},
   "outputs": [
    {
     "name": "stdout",
     "output_type": "stream",
     "text": [
      "Epoch 1/5\n",
      "2756/2756 [==============================] - 40s 14ms/step - loss: 1.0309 - acc: 0.7242\n",
      "Epoch 2/5\n",
      "2756/2756 [==============================] - 38s 14ms/step - loss: 0.1155 - acc: 0.9826\n",
      "Epoch 3/5\n",
      "2756/2756 [==============================] - 34s 12ms/step - loss: 0.0133 - acc: 0.9985\n",
      "Epoch 4/5\n",
      "2756/2756 [==============================] - 33s 12ms/step - loss: 0.0031 - acc: 1.0000\n",
      "Epoch 5/5\n",
      "2756/2756 [==============================] - 33s 12ms/step - loss: 0.0017 - acc: 1.0000\n"
     ]
    }
   ],
   "source": [
    "history = model.fit(tfidf_train, y_train_enc, batch_size=200, epochs=5, verbose=1)"
   ]
  },
  {
   "cell_type": "code",
   "execution_count": 44,
   "metadata": {},
   "outputs": [],
   "source": [
    "y_test_preds = model.predict(tfidf_test)"
   ]
  },
  {
   "cell_type": "code",
   "execution_count": 45,
   "metadata": {},
   "outputs": [
    {
     "data": {
      "text/plain": [
       "array([[4.18066055e-01, 4.47583152e-05, 8.82277032e-04, 1.94801316e-02,\n",
       "        5.61526835e-01],\n",
       "       [3.29944551e-01, 5.19602597e-01, 2.31284034e-02, 1.04378395e-01,\n",
       "        2.29460038e-02],\n",
       "       [7.96042877e-06, 3.03912095e-08, 7.22929315e-07, 2.55263858e-05,\n",
       "        9.99965787e-01],\n",
       "       [9.99976397e-01, 5.08007304e-07, 7.52068217e-07, 9.92274272e-06,\n",
       "        1.25066726e-05],\n",
       "       [2.12732889e-08, 7.86884797e-08, 7.93065080e-09, 9.99999881e-01,\n",
       "        1.42077381e-08],\n",
       "       [2.25711480e-01, 1.20060995e-01, 5.23922443e-01, 3.61656025e-02,\n",
       "        9.41395313e-02],\n",
       "       [2.44480202e-06, 4.31073931e-06, 9.96799645e-06, 9.99975681e-01,\n",
       "        7.65553068e-06],\n",
       "       [1.42257998e-03, 9.84607637e-01, 4.29519685e-03, 3.07999901e-03,\n",
       "        6.59453822e-03],\n",
       "       [1.98990833e-02, 1.05127571e-02, 8.11024964e-01, 1.52396858e-01,\n",
       "        6.16634311e-03],\n",
       "       [8.34716439e-01, 8.30210629e-04, 2.82891281e-03, 3.06331571e-02,\n",
       "        1.30991235e-01]], dtype=float32)"
      ]
     },
     "execution_count": 45,
     "metadata": {},
     "output_type": "execute_result"
    }
   ],
   "source": [
    "y_test_preds[:10] # 4, 1, 4"
   ]
  },
  {
   "cell_type": "code",
   "execution_count": 53,
   "metadata": {},
   "outputs": [],
   "source": [
    "# Goal: Find the index with the maximum value -> use argmax\n",
    "\n",
    "y_test_labels_pred = np.argmax(y_test_preds, axis=1)"
   ]
  },
  {
   "cell_type": "code",
   "execution_count": 55,
   "metadata": {},
   "outputs": [
    {
     "name": "stdout",
     "output_type": "stream",
     "text": [
      "              precision    recall  f1-score   support\n",
      "\n",
      "           0       0.82      0.84      0.83       311\n",
      "           1       0.95      0.91      0.93       391\n",
      "           2       0.90      0.95      0.92       389\n",
      "           3       0.85      0.84      0.85       380\n",
      "           4       0.82      0.80      0.81       353\n",
      "\n",
      "    accuracy                           0.87      1824\n",
      "   macro avg       0.87      0.87      0.87      1824\n",
      "weighted avg       0.87      0.87      0.87      1824\n",
      "\n"
     ]
    }
   ],
   "source": [
    "report = classification_report(df_test['label'], y_test_labels_pred)\n",
    "print(report)"
   ]
  },
  {
   "cell_type": "code",
   "execution_count": 56,
   "metadata": {},
   "outputs": [
    {
     "data": {
      "text/plain": [
       "0.8706140350877193"
      ]
     },
     "execution_count": 56,
     "metadata": {},
     "output_type": "execute_result"
    }
   ],
   "source": [
    "accuracy_score(df_test['label'], y_test_labels_pred)"
   ]
  },
  {
   "cell_type": "markdown",
   "metadata": {},
   "source": [
    "# We overfit...whatever...move on...let's tune hyperparameters"
   ]
  },
  {
   "cell_type": "code",
   "execution_count": 57,
   "metadata": {},
   "outputs": [],
   "source": [
    "from keras.wrappers.scikit_learn import KerasClassifier"
   ]
  },
  {
   "cell_type": "code",
   "execution_count": 65,
   "metadata": {},
   "outputs": [],
   "source": [
    "def build_model(units1=15000, lr=0.001, layers={}):\n",
    "    model = keras.Sequential()\n",
    "    # first hidden layer\n",
    "    model.add(Dense(input_dim=10000, units=units1, activation='relu'))\n",
    "    # output layter\n",
    "    model.add(Dense(units=5, activation='softmax'))\n",
    "    opt = optimizers.Adam(lr=lr)\n",
    "    model.compile(loss=keras.losses.categorical_crossentropy,\n",
    "                  optimizer=opt)\n",
    "    return model"
   ]
  },
  {
   "cell_type": "code",
   "execution_count": 72,
   "metadata": {},
   "outputs": [],
   "source": [
    "keras_clf_sklearn = KerasClassifier(build_fn=build_model, verbose=1, batch_size=500)"
   ]
  },
  {
   "cell_type": "code",
   "execution_count": 73,
   "metadata": {},
   "outputs": [],
   "source": [
    "params = dict(units1 = [15000, 10000], \n",
    "              epochs=[3, 5],\n",
    "              lr=[0.01, 0.001, 1.0])"
   ]
  },
  {
   "cell_type": "code",
   "execution_count": 74,
   "metadata": {},
   "outputs": [],
   "source": [
    "from sklearn.model_selection import GridSearchCV"
   ]
  },
  {
   "cell_type": "code",
   "execution_count": 75,
   "metadata": {},
   "outputs": [],
   "source": [
    "gridsearch_cv = GridSearchCV(estimator=keras_clf_sklearn, param_grid=params)"
   ]
  },
  {
   "cell_type": "code",
   "execution_count": null,
   "metadata": {},
   "outputs": [
    {
     "name": "stdout",
     "output_type": "stream",
     "text": [
      "Epoch 1/3\n",
      " 500/2204 [=====>........................] - ETA: 43s - loss: 1.6099"
     ]
    }
   ],
   "source": [
    "gridsearch_result = gridsearch_cv.fit(tfidf_train, df_train['label'])"
   ]
  },
  {
   "cell_type": "code",
   "execution_count": null,
   "metadata": {},
   "outputs": [],
   "source": []
  }
 ],
 "metadata": {
  "kernelspec": {
   "display_name": "Python [conda env:flatiron-env] *",
   "language": "python",
   "name": "conda-env-flatiron-env-py"
  },
  "language_info": {
   "codemirror_mode": {
    "name": "ipython",
    "version": 3
   },
   "file_extension": ".py",
   "mimetype": "text/x-python",
   "name": "python",
   "nbconvert_exporter": "python",
   "pygments_lexer": "ipython3",
   "version": "3.6.0"
  }
 },
 "nbformat": 4,
 "nbformat_minor": 2
}
